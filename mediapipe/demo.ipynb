{
 "cells": [
  {
   "cell_type": "code",
   "execution_count": 7,
   "id": "b7c31fc2",
   "metadata": {},
   "outputs": [],
   "source": [
    "import mediapipe as mp\n",
    "import cv2\n",
    "from mediapipe import solutions\n",
    "from mediapipe.framework.formats import landmark_pb2\n",
    "import numpy as np\n",
    "import matplotlib.pyplot as plt\n",
    "import json"
   ]
  },
  {
   "cell_type": "code",
   "execution_count": 2,
   "id": "2a331c91",
   "metadata": {},
   "outputs": [],
   "source": [
    "# 将预测出的关节点在图中标出\n",
    "def draw_landmarks_on_image(rgb_image, detection_result):\n",
    "    pose_landmarks_list = detection_result.pose_landmarks\n",
    "    annotated_image = np.copy(rgb_image)\n",
    "\n",
    "    # 循环每个关节点进行标注\n",
    "    for idx in range(len(pose_landmarks_list)):\n",
    "        pose_landmarks = pose_landmarks_list[idx]\n",
    "\n",
    "        # 标出标记点\n",
    "        pose_landmarks_proto = landmark_pb2.NormalizedLandmarkList()\n",
    "        pose_landmarks_proto.landmark.extend(\n",
    "            [\n",
    "                landmark_pb2.NormalizedLandmark(\n",
    "                    x=landmark.x, y=landmark.y, z=landmark.z\n",
    "                )\n",
    "                for landmark in pose_landmarks\n",
    "            ]\n",
    "        )\n",
    "        solutions.drawing_utils.draw_landmarks(\n",
    "            annotated_image,\n",
    "            pose_landmarks_proto,\n",
    "            solutions.pose.POSE_CONNECTIONS,\n",
    "            solutions.drawing_styles.get_default_pose_landmarks_style(),\n",
    "        )\n",
    "    return annotated_image"
   ]
  },
  {
   "cell_type": "code",
   "execution_count": 21,
   "id": "b77b0275",
   "metadata": {},
   "outputs": [],
   "source": [
    "def run_pose_landmark_model(video_path, _show_video=False):\n",
    "    BaseOptions = mp.tasks.BaseOptions\n",
    "    PoseLandmarker = mp.tasks.vision.PoseLandmarker\n",
    "    PoseLandmarkerOptions = mp.tasks.vision.PoseLandmarkerOptions\n",
    "    VisionRunningMode = mp.tasks.vision.RunningMode\n",
    "\n",
    "    model_path = \"./models/pose_landmarker.task\"\n",
    "\n",
    "    # 以视频模式创建姿态标记模型实例\n",
    "    options = PoseLandmarkerOptions(\n",
    "        base_options=BaseOptions(model_asset_path=model_path),\n",
    "        running_mode=VisionRunningMode.VIDEO,\n",
    "    )\n",
    "\n",
    "    with PoseLandmarker.create_from_options(options) as landmarker:\n",
    "        video = cv2.VideoCapture(video_path)  # 加载视频\n",
    "        frame_cnt = 0  # 设置帧时间戳\n",
    "\n",
    "        # 判断视频是否被正确打开\n",
    "        if video.isOpened():\n",
    "            open, frame = video.read()\n",
    "        else:\n",
    "            open = False\n",
    "            print(\"---------video loading failed---------\")\n",
    "\n",
    "        # 设置显示窗口大小\n",
    "        if _show_video:\n",
    "            cv2.namedWindow(\"frame\", 0)\n",
    "            cv2.resizeWindow(\"frame\", 1000, 600)\n",
    "\n",
    "        # annotated_images = []\n",
    "        pose_landmarker_results = []\n",
    "\n",
    "        # 运行pose landmark model\n",
    "        while open:\n",
    "            mp_image = mp.Image(image_format=mp.ImageFormat.SRGB, data=frame)\n",
    "            pose_landmarker_result = landmarker.detect_for_video(mp_image, frame_cnt)\n",
    "            pose_landmarker_results.append(pose_landmarker_result)\n",
    "            \n",
    "            # annotated_images.append(annotated_image)\n",
    "\n",
    "            # 生成标注过的图像\n",
    "            # 展示每一帧画面\n",
    "            if _show_video:\n",
    "                annotated_image = draw_landmarks_on_image(frame, pose_landmarker_result)\n",
    "                cv2.imshow(\"frame\", annotated_image)\n",
    "\n",
    "            if cv2.waitKey(1) & 0xFF == 27:\n",
    "                break\n",
    "\n",
    "            open, frame = video.read()\n",
    "            frame_cnt += 1\n",
    "            \n",
    "        video.release()\n",
    "        cv2.destroyAllWindows()\n",
    "\n",
    "    return pose_landmarker_results, frame_cnt"
   ]
  },
  {
   "cell_type": "code",
   "execution_count": 40,
   "id": "3c778e54",
   "metadata": {},
   "outputs": [],
   "source": [
    "# 获取关节点坐标和视频帧数\n",
    "pose_landmarker_results_test, frame_num = run_pose_landmark_model(video_path=\"./modules/sports/pullup/video/test.mp4\")"
   ]
  },
  {
   "cell_type": "code",
   "execution_count": 42,
   "id": "b4ca6f40",
   "metadata": {},
   "outputs": [
    {
     "data": {
      "text/plain": [
       "(195, 195)"
      ]
     },
     "execution_count": 42,
     "metadata": {},
     "output_type": "execute_result"
    }
   ],
   "source": [
    "frame_num, len(pose_landmarker_results_test)"
   ]
  },
  {
   "cell_type": "code",
   "execution_count": 44,
   "id": "256c0cd9",
   "metadata": {},
   "outputs": [],
   "source": [
    "# 将得到的关节点信息转换为ndarray\n",
    "def landmarks2vec(pose_landmarks):\n",
    "    vec2d = []\n",
    "    for pose in pose_landmarks:\n",
    "        vec1d = []\n",
    "        pose_landmarks_list = pose.pose_landmarks[0]\n",
    "        for idx in range(len(pose_landmarks_list)):\n",
    "            x = pose_landmarks_list[idx].x\n",
    "            y = pose_landmarks_list[idx].y\n",
    "            z = pose_landmarks_list[idx].z\n",
    "            v = pose_landmarks_list[idx].visibility\n",
    "            p = pose_landmarks_list[idx].presence\n",
    "            vec1d.append([x, y, z, v, p])\n",
    "        vec2d.append(vec1d)\n",
    "    vec3d = np.array(vec2d)\n",
    "    return vec3d"
   ]
  },
  {
   "cell_type": "code",
   "execution_count": 45,
   "id": "d2164bd2",
   "metadata": {
    "scrolled": true
   },
   "outputs": [
    {
     "data": {
      "text/plain": [
       "(195, 33, 5)"
      ]
     },
     "execution_count": 45,
     "metadata": {},
     "output_type": "execute_result"
    }
   ],
   "source": [
    "vec = landmarks2vec(pose_landmarker_results_test)   # 转换为特征向量\n",
    "vec.shape  # 结果分别对应：(视频的帧数, 关节点的个数, 每个关节点的相关信息的个数)"
   ]
  },
  {
   "cell_type": "code",
   "execution_count": 10,
   "id": "de5767b9",
   "metadata": {},
   "outputs": [],
   "source": [
    "def fixed(vec1):\n",
    "    for i in range(vec1.shape[0]):\n",
    "        print(vec1[i][15][0], vec1[i][15][0])"
   ]
  },
  {
   "cell_type": "markdown",
   "id": "316c2375",
   "metadata": {},
   "source": [
    "特征工程\n",
    "1. 对骨架进行放缩，减小人体体型的差距，不同运动的缩放比例的选取也不同，例如引体向上中可以以两人肩膀间距的比值作为缩放比例\n",
    "2. 将骨架平移到一起进行对齐，但是不同运动的平移方式可能有所不同，例如引体向上，由于运动过程中人的手位置几乎固定不变，所以选择左手手腕(15号点)作为参考点，优先对齐左手手肘"
   ]
  },
  {
   "cell_type": "code",
   "execution_count": 8,
   "id": "a9b37000",
   "metadata": {},
   "outputs": [],
   "source": [
    "# 加载json\n",
    "def load_json(path):\n",
    "    with open(path) as f:\n",
    "        data = json.load(f)[\"data\"]\n",
    "    return data\n",
    "\n",
    "\n",
    "# 加载数据\n",
    "standard = load_json(\"./modules/sports/pullup/dataset/standard_video.json\")\n",
    "test = load_json(\"./modules/sports/pullup/dataset/test_video.json\")\n",
    "standard = np.array(standard)\n",
    "test = np.array(test)\n",
    "\n",
    "\n",
    "\"\"\"\n",
    "这一步有一个难点：有时候人像可能会被识别反，简单来说左手被识别成右手，导致最终我们有可能将测试视频的左手与标准视频的右手对齐。\n",
    "为了克服这一难点，我们在一开始的时候对左手腕和右手腕的距离进行测量比较，以确定是否需要镜像翻转，如需要则翻转之。\n",
    "\"\"\"\n",
    "\n",
    "\"\"\"\n",
    "该函数检测是否需要水平翻转图像\n",
    "coord1是标准视频的左手腕坐标\n",
    "coord2和coord3是测试视频的左手腕和右手腕的坐标\n",
    "\"\"\"\n",
    "def is_reverted(coord1, coord2, coord3):\n",
    "    dist1 = np.sqrt(np.sum(np.square(coord1 - coord2)))\n",
    "    dist2 = np.sqrt(np.sum(np.square(coord1 - coord3)))\n",
    "    return dist1 - dist2 > 0\n",
    "\n",
    "\n",
    "# 该函数可以水平翻转图像\n",
    "def revert(frame):\n",
    "    for coord_idx in range(1, frame.shape[0], 2):\n",
    "        frame[coord_idx][0], frame[coord_idx + 1][0] = (\n",
    "            frame[coord_idx + 1][0],\n",
    "            frame[coord_idx][0],\n",
    "        )\n",
    "        frame[coord_idx][1], frame[coord_idx + 1][1] = (\n",
    "            frame[coord_idx + 1][1],\n",
    "            frame[coord_idx][1],\n",
    "        )\n",
    "\n",
    "\n",
    "def transformX(vec1, vec2, pos=15):\n",
    "    # 检测是否需要水平翻转\n",
    "    for frame_idx in range(vec2.shape[0]):\n",
    "        if is_reverted(\n",
    "            np.array([vec1[0][pos][0], vec1[0][pos][1]]),\n",
    "            np.array([vec2[frame_idx][pos][0], vec2[frame_idx][pos][1]]),\n",
    "            np.array([vec2[frame_idx][pos + 1][0], vec2[frame_idx][pos + 1][1]]),\n",
    "        ):\n",
    "            revert(vec2[frame_idx])  # 翻转\n",
    "    return vec2\n",
    "\n",
    "\n",
    "\"\"\"\n",
    "该函数实现骨骼的放缩，x轴上的缩放比例一般以双肩距离的比值作为缩放倍数，\n",
    "y轴上的缩放比例则应该以测试人员和标准视频中的人的身高的比值作为缩放倍数。\n",
    "\"\"\"\n",
    "def regularize(vec1, vec2):\n",
    "    # 以初始帧的肩距作为标准\n",
    "    ratio_x = np.fabs(vec1[0][11][0] - vec1[0][12][0]) / np.fabs(\n",
    "        vec2[0][11][0] - vec2[0][12][0]\n",
    "    )\n",
    "    ratio_y = np.fabs(vec1[0][11][1] - vec1[0][12][1]) / np.fabs(\n",
    "        vec2[0][11][1] - vec2[0][12][1]\n",
    "    )\n",
    "    for frame_idx in range(vec2.shape[0]):\n",
    "        for coord_idx in range(vec2.shape[1]):\n",
    "            vec2[frame_idx][coord_idx][0] *= ratio_x\n",
    "            vec2[frame_idx][coord_idx][1] /= ratio_y\n",
    "    return vec2\n",
    "\n",
    "\n",
    "\"\"\"\n",
    "该函数实现引体向上的对齐骨骼，pos是参照点的索引，vec1是标准视频的特征向量，vec2是测试视频的特征向量。\n",
    "由于引体向上运动过程中人的手位置几乎固定不变，所以选择左手手腕(15号点)作为参考。\n",
    "\"\"\"\n",
    "def align_skeleton_pullup(vec1, vec2, pos=15):\n",
    "    # 先将标准视频的相对固定的关节点对齐(自己跟自己对齐)\n",
    "    for frame_idx in range(vec1.shape[0]):  # 遍历每一帧\n",
    "        xd_standard = vec1[0][pos][0] - vec1[frame_idx][pos][0]\n",
    "        yd_standard = vec1[0][pos][1] - vec1[frame_idx][pos][1]\n",
    "        for coord_idx in range(vec1.shape[1]):  # 遍历每一个关节点\n",
    "            vec1[frame_idx][coord_idx][0] += xd_standard\n",
    "            vec1[frame_idx][coord_idx][1] += yd_standard\n",
    "\n",
    "    # 将测试视频与标准视频对齐\n",
    "    # 选取标准视频的第一帧的左手手肘坐标作为平移参照点\n",
    "    for frame_idx in range(vec2.shape[0]):  # 遍历每一帧\n",
    "        xd_test = vec1[0][pos][0] - vec2[frame_idx][pos][0]\n",
    "        yd_test = vec1[0][pos][1] - vec2[frame_idx][pos][1]\n",
    "        for coord_idx in range(vec2.shape[1]):  # 遍历每一个关节点\n",
    "            vec2[frame_idx][coord_idx][0] += xd_test\n",
    "            vec2[frame_idx][coord_idx][1] += yd_test\n",
    "\n",
    "    return vec1, vec2"
   ]
  },
  {
   "cell_type": "code",
   "execution_count": 9,
   "id": "4cb695ac",
   "metadata": {},
   "outputs": [
    {
     "data": {
      "image/png": "[encoded data removed]",
      "text/plain": [
       "<Figure size 640x480 with 1 Axes>"
      ]
     },
     "metadata": {},
     "output_type": "display_data"
    }
   ],
   "source": [
    "# 数据处理之前\n",
    "frame_idx = 0\n",
    "plt.figure()\n",
    "for coord_idx in range(standard.shape[1]):\n",
    "    plt.scatter(\n",
    "        100 * standard[frame_idx][coord_idx][0],\n",
    "        100 * standard[frame_idx][coord_idx][1],\n",
    "        c=\"b\",\n",
    "    )\n",
    "for coord_idx in range(test.shape[1]):\n",
    "    plt.scatter(\n",
    "        100 * test[frame_idx][coord_idx][0],\n",
    "        100 * test[frame_idx][coord_idx][1],\n",
    "        c=\"r\",\n",
    "    )\n",
    "plt.xlim((-25, 125))\n",
    "plt.ylim((0, 150))\n",
    "plt.show()"
   ]
  },
  {
   "cell_type": "code",
   "execution_count": 10,
   "id": "e352e2cb",
   "metadata": {},
   "outputs": [],
   "source": [
    "# 水平翻转\n",
    "test = transformX(standard, test)"
   ]
  },
  {
   "cell_type": "code",
   "execution_count": 11,
   "id": "0c45093b",
   "metadata": {},
   "outputs": [
    {
     "data": {
      "image/png": "[encoded data removed]",
      "text/plain": [
       "<Figure size 640x480 with 1 Axes>"
      ]
     },
     "metadata": {},
     "output_type": "display_data"
    }
   ],
   "source": [
    "# 水平翻转之后\n",
    "frame_idx = 0\n",
    "plt.figure()\n",
    "for coord_idx in range(standard.shape[1]):\n",
    "    plt.scatter(\n",
    "        100 * standard[frame_idx][coord_idx][0],\n",
    "        100 * standard[frame_idx][coord_idx][1],\n",
    "        c=\"b\",\n",
    "    )\n",
    "for coord_idx in range(test.shape[1]):\n",
    "    plt.scatter(\n",
    "        100 * test[frame_idx][coord_idx][0],\n",
    "        100 * test[frame_idx][coord_idx][1],\n",
    "        c=\"r\",\n",
    "    )\n",
    "plt.xlim((-25, 125))\n",
    "plt.ylim((0, 150))\n",
    "plt.show()"
   ]
  },
  {
   "cell_type": "code",
   "execution_count": 12,
   "id": "50f677ee",
   "metadata": {},
   "outputs": [],
   "source": [
    "test = regularize(standard, test)"
   ]
  },
  {
   "cell_type": "code",
   "execution_count": 13,
   "id": "3933e566",
   "metadata": {},
   "outputs": [
    {
     "data": {
      "image/png": "[encoded data removed]",
      "text/plain": [
       "<Figure size 640x480 with 1 Axes>"
      ]
     },
     "metadata": {},
     "output_type": "display_data"
    }
   ],
   "source": [
    "frame_idx = 0\n",
    "plt.figure()\n",
    "for coord_idx in range(standard.shape[1]):\n",
    "    plt.scatter(\n",
    "        100 * standard[frame_idx][coord_idx][0],\n",
    "        100 * standard[frame_idx][coord_idx][1],\n",
    "        c=\"b\",\n",
    "    )\n",
    "for coord_idx in range(test.shape[1]):\n",
    "    plt.scatter(\n",
    "        100 * test[frame_idx][coord_idx][0],\n",
    "        100 * test[frame_idx][coord_idx][1],\n",
    "        c=\"r\",\n",
    "    )\n",
    "plt.xlim((-25, 125))\n",
    "plt.ylim((0, 150))\n",
    "plt.show()"
   ]
  },
  {
   "cell_type": "code",
   "execution_count": 14,
   "id": "406509cf",
   "metadata": {},
   "outputs": [],
   "source": [
    "# 对齐骨骼\n",
    "standard, test = align_skeleton_pullup(standard, test)"
   ]
  },
  {
   "cell_type": "code",
   "execution_count": 15,
   "id": "c7ba2279",
   "metadata": {},
   "outputs": [
    {
     "data": {
      "image/png": "[encoded data removed]",
      "text/plain": [
       "<Figure size 640x480 with 1 Axes>"
      ]
     },
     "metadata": {},
     "output_type": "display_data"
    }
   ],
   "source": [
    "frame_idx = 0\n",
    "plt.figure()\n",
    "for coord_idx in range(standard.shape[1]):\n",
    "    plt.scatter(\n",
    "        100 * standard[frame_idx][coord_idx][0],\n",
    "        100 * standard[frame_idx][coord_idx][1],\n",
    "        c=\"b\",\n",
    "    )\n",
    "for coord_idx in range(test.shape[1]):\n",
    "    plt.scatter(\n",
    "        100 * test[frame_idx][coord_idx][0],\n",
    "        100 * test[frame_idx][coord_idx][1],\n",
    "        c=\"r\",\n",
    "    )\n",
    "plt.xlim((-25, 125))\n",
    "plt.ylim((0, 150))\n",
    "plt.show()"
   ]
  },
  {
   "cell_type": "markdown",
   "id": "2f6654e4",
   "metadata": {},
   "source": [
    "特征工程结束后，我们使用DTW算法对标准视频和测试视频进行帧对齐，经过这一过程，我们能计算出标准视频和测试视频的姿态相似度"
   ]
  },
  {
   "cell_type": "code",
   "execution_count": 37,
   "id": "db1795f3",
   "metadata": {},
   "outputs": [],
   "source": [
    "# 计算节点之间的距离(欧氏距离)\n",
    "def euclidean_dist(landmarks1, landmarks2):\n",
    "    sum = 0\n",
    "    for coord_idx in range(landmarks1.shape[0]):\n",
    "        sum += np.sqrt(np.sum(np.square(landmarks1[coord_idx][0:2] - landmarks2[coord_idx][0:2])))\n",
    "    return sum\n",
    "\n",
    "\n",
    "# 时间动态规划，vec1是标准视频，vec2是测试视频\n",
    "def dynamic_time_warping(vec1, vec2):\n",
    "    len1, len2 = vec1.shape[0], vec2.shape[0]\n",
    "    admatrix = [[0 for j in range(len2)] for i in range(len1)]  # 构造初始累计距离矩阵，len1*len2\n",
    "\n",
    "    # 构造第一列\n",
    "    for i in range(len1):\n",
    "        admatrix[i][0] = euclidean_dist(vec1[i], vec2[0])\n",
    "        if i != 0:\n",
    "            admatrix[i][0] += admatrix[i - 1][0]\n",
    "\n",
    "    # 构造第一行\n",
    "    for i in range(len2):\n",
    "        admatrix[0][i] = euclidean_dist(vec1[0], vec2[i])\n",
    "        if i != 0:\n",
    "            admatrix[0][i] += admatrix[0][i - 1]\n",
    "\n",
    "    # 填补剩余位置\n",
    "    for i in range(1, len1):\n",
    "        for j in range(1, len2):\n",
    "            admatrix[i][j] = euclidean_dist(vec1[i], vec2[j]) + min(admatrix[i - 1][j], admatrix[i][j - 1],\n",
    "                                                          admatrix[i - 1][j - 1])\n",
    "\n",
    "    # for i in range(len1 - 1, -1, -1):\n",
    "    #     for j in range(0, len2):\n",
    "    #         print('%02d' % admatrix[i][j], end=' ')\n",
    "    #     print()\n",
    "\n",
    "    # 寻找匹配路径\n",
    "    aligned = []\n",
    "    x, y = len1 - 1, len2 - 1\n",
    "    match = [[False for j in range(len2)] for i in range(len1)]\n",
    "    while x != 0 and y != 0:\n",
    "        match[x][y] = True\n",
    "        aligned.append(x)\n",
    "        cads = [admatrix[x - 1][y] if x != 0 else 0xfff, admatrix[x][y - 1] if y != 0 else 0xfff,\n",
    "                admatrix[x - 1][y - 1] if x != 0 and y != 0 else 0xfff]\n",
    "        nextstep = np.argmin(cads)\n",
    "        if nextstep == 0:\n",
    "            x -= 1\n",
    "        elif nextstep == 1:\n",
    "            y -= 1\n",
    "        else:\n",
    "            x -= 1\n",
    "            y -= 1\n",
    "    match[x][y] = True\n",
    "    aligned.append(x)\n",
    "\n",
    "    # 打印匹配完成后的路径\n",
    "    # for i in range(len1 - 1, -1, -1):\n",
    "    #     for j in range(0, len2):\n",
    "    #         print('%1d' % int(match[i][j]), end=' ')\n",
    "    #     print()\n",
    "    \n",
    "    # aligned = []    # 对齐的结果，align[i]=x，表示测试视频的第i帧对应标准视频的第x帧\n",
    "    # for col in range(0, len(match[0])):\n",
    "    #     for row in range(len(match)):\n",
    "    #         if match[row][col]:\n",
    "    #             aligned.append(row)\n",
    "    #             break\n",
    "\n",
    "    return np.array(aligned)[::-1]"
   ]
  },
  {
   "cell_type": "code",
   "execution_count": 38,
   "id": "8bda7aa2",
   "metadata": {},
   "outputs": [
    {
     "data": {
      "text/plain": [
       "array([ 0,  1,  1,  1,  1,  1,  1,  1,  1,  1,  1,  1,  1,  1,  1,  1,  1,\n",
       "        1,  1,  1,  1,  1,  1,  1,  1,  1,  1,  1,  1,  1,  1,  1,  1,  1,\n",
       "        1,  1,  1,  1,  1,  1,  1,  1,  1,  1,  1,  1,  1,  1,  1,  1,  1,\n",
       "        1,  1,  1,  1,  1,  1,  1,  1,  1,  1,  1,  1,  1,  1,  1,  1,  1,\n",
       "        1,  1,  1,  1,  1,  1,  1,  1,  1,  1,  1,  1,  1,  1,  1,  1,  1,\n",
       "        1,  1,  1,  1,  1,  1,  1,  1,  1,  1,  1,  1,  1,  1,  1,  1,  1,\n",
       "        1,  1,  1,  1,  1,  1,  1,  1,  1,  1,  1,  1,  2,  3,  4,  5,  6,\n",
       "        7,  8,  9, 10, 11, 12, 13, 14, 15, 16, 17, 18, 19, 20, 21, 22, 23,\n",
       "       24, 25, 26, 27, 28, 29, 30, 31, 32, 33, 34, 35, 36, 37, 38, 39, 40,\n",
       "       41, 42, 43, 44, 45, 46, 47, 48, 49, 50, 51, 52, 53, 54, 55, 56, 57,\n",
       "       58, 59, 60, 61, 62, 63, 64, 65, 66, 67, 68, 69, 70, 71, 72, 73, 74,\n",
       "       75, 76, 77, 78, 79, 80, 81, 82, 83, 84, 85, 86, 87, 88, 89, 90, 91,\n",
       "       92, 93, 93, 93, 93, 93, 93, 93, 93, 93, 93, 93, 93, 93])"
      ]
     },
     "execution_count": 38,
     "metadata": {},
     "output_type": "execute_result"
    }
   ],
   "source": [
    "aligned = dynamic_time_warping(standard, test)\n",
    "aligned"
   ]
  },
  {
   "cell_type": "code",
   "execution_count": 27,
   "id": "9dea8960",
   "metadata": {},
   "outputs": [
    {
     "data": {
      "text/plain": [
       "((94, 33, 5), (195, 33, 5))"
      ]
     },
     "execution_count": 27,
     "metadata": {},
     "output_type": "execute_result"
    }
   ],
   "source": [
    "standard.shape, test.shape"
   ]
  },
  {
   "cell_type": "code",
   "execution_count": 34,
   "id": "4af72ecc",
   "metadata": {},
   "outputs": [
    {
     "name": "stdout",
     "output_type": "stream",
     "text": [
      "<class 'numpy.ndarray'>\n"
     ]
    }
   ],
   "source": [
    "a = np.array([[2, 3], [4, 5]])\n",
    "print(type(a[0]))"
   ]
  },
  {
   "cell_type": "code",
   "execution_count": null,
   "id": "979b7888",
   "metadata": {},
   "outputs": [],
   "source": []
  }
 ],
 "metadata": {
  "kernelspec": {
   "display_name": "Python 3 (ipykernel)",
   "language": "python",
   "name": "python3"
  },
  "language_info": {
   "codemirror_mode": {
    "name": "ipython",
    "version": 3
   },
   "file_extension": ".py",
   "mimetype": "text/x-python",
   "name": "python",
   "nbconvert_exporter": "python",
   "pygments_lexer": "ipython3",
   "version": "3.10.13"
  }
 },
 "nbformat": 4,
 "nbformat_minor": 5
}
