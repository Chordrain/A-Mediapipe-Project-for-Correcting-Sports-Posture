{
 "cells": [
  {
   "cell_type": "code",
   "execution_count": 52,
   "id": "b7c31fc2",
   "metadata": {},
   "outputs": [],
   "source": [
    "import mediapipe as mp\n",
    "import cv2\n",
    "from mediapipe import solutions\n",
    "from mediapipe.framework.formats import landmark_pb2\n",
    "import numpy as np\n",
    "import matplotlib.pyplot as plt\n",
    "import json"
   ]
  },
  {
   "cell_type": "code",
   "execution_count": 2,
   "id": "2a331c91",
   "metadata": {},
   "outputs": [],
   "source": [
    "# 将预测出的关节点在图中标出\n",
    "def draw_landmarks_on_image(rgb_image, detection_result):\n",
    "    pose_landmarks_list = detection_result.pose_landmarks\n",
    "    annotated_image = np.copy(rgb_image)\n",
    "\n",
    "    # 循环每个关节点进行标注\n",
    "    for idx in range(len(pose_landmarks_list)):\n",
    "        pose_landmarks = pose_landmarks_list[idx]\n",
    "\n",
    "        # 标出标记点\n",
    "        pose_landmarks_proto = landmark_pb2.NormalizedLandmarkList()\n",
    "        pose_landmarks_proto.landmark.extend(\n",
    "            [\n",
    "                landmark_pb2.NormalizedLandmark(\n",
    "                    x=landmark.x, y=landmark.y, z=landmark.z\n",
    "                )\n",
    "                for landmark in pose_landmarks\n",
    "            ]\n",
    "        )\n",
    "        solutions.drawing_utils.draw_landmarks(\n",
    "            annotated_image,\n",
    "            pose_landmarks_proto,\n",
    "            solutions.pose.POSE_CONNECTIONS,\n",
    "            solutions.drawing_styles.get_default_pose_landmarks_style(),\n",
    "        )\n",
    "    return annotated_image"
   ]
  },
  {
   "cell_type": "code",
   "execution_count": 21,
   "id": "b77b0275",
   "metadata": {},
   "outputs": [],
   "source": [
    "def run_pose_landmark_model(video_path, _show_video=False):\n",
    "    BaseOptions = mp.tasks.BaseOptions\n",
    "    PoseLandmarker = mp.tasks.vision.PoseLandmarker\n",
    "    PoseLandmarkerOptions = mp.tasks.vision.PoseLandmarkerOptions\n",
    "    VisionRunningMode = mp.tasks.vision.RunningMode\n",
    "\n",
    "    model_path = \"./models/pose_landmarker.task\"\n",
    "\n",
    "    # 以视频模式创建姿态标记模型实例\n",
    "    options = PoseLandmarkerOptions(\n",
    "        base_options=BaseOptions(model_asset_path=model_path),\n",
    "        running_mode=VisionRunningMode.VIDEO,\n",
    "    )\n",
    "\n",
    "    with PoseLandmarker.create_from_options(options) as landmarker:\n",
    "        video = cv2.VideoCapture(video_path)  # 加载视频\n",
    "        frame_cnt = 0  # 设置帧时间戳\n",
    "\n",
    "        # 判断视频是否被正确打开\n",
    "        if video.isOpened():\n",
    "            open, frame = video.read()\n",
    "        else:\n",
    "            open = False\n",
    "            print(\"---------video loading failed---------\")\n",
    "\n",
    "        # 设置显示窗口大小\n",
    "        if _show_video:\n",
    "            cv2.namedWindow(\"frame\", 0)\n",
    "            cv2.resizeWindow(\"frame\", 1000, 600)\n",
    "\n",
    "        # annotated_images = []\n",
    "        pose_landmarker_results = []\n",
    "\n",
    "        # 运行pose landmark model\n",
    "        while open:\n",
    "            mp_image = mp.Image(image_format=mp.ImageFormat.SRGB, data=frame)\n",
    "            pose_landmarker_result = landmarker.detect_for_video(mp_image, frame_cnt)\n",
    "            pose_landmarker_results.append(pose_landmarker_result)\n",
    "            \n",
    "            # annotated_images.append(annotated_image)\n",
    "\n",
    "            # 生成标注过的图像\n",
    "            # 展示每一帧画面\n",
    "            if _show_video:\n",
    "                annotated_image = draw_landmarks_on_image(frame, pose_landmarker_result)\n",
    "                cv2.imshow(\"frame\", annotated_image)\n",
    "\n",
    "            if cv2.waitKey(1) & 0xFF == 27:\n",
    "                break\n",
    "\n",
    "            open, frame = video.read()\n",
    "            frame_cnt += 1\n",
    "            \n",
    "        video.release()\n",
    "        cv2.destroyAllWindows()\n",
    "\n",
    "    return pose_landmarker_results, frame_cnt"
   ]
  },
  {
   "cell_type": "code",
   "execution_count": 40,
   "id": "3c778e54",
   "metadata": {},
   "outputs": [],
   "source": [
    "# 获取关节点坐标和视频帧数\n",
    "pose_landmarker_results_test, frame_num = run_pose_landmark_model(video_path=\"./modules/sports/pullup/video/test.mp4\")"
   ]
  },
  {
   "cell_type": "code",
   "execution_count": 42,
   "id": "b4ca6f40",
   "metadata": {},
   "outputs": [
    {
     "data": {
      "text/plain": [
       "(195, 195)"
      ]
     },
     "execution_count": 42,
     "metadata": {},
     "output_type": "execute_result"
    }
   ],
   "source": [
    "frame_num, len(pose_landmarker_results_test)"
   ]
  },
  {
   "cell_type": "code",
   "execution_count": 44,
   "id": "256c0cd9",
   "metadata": {},
   "outputs": [],
   "source": [
    "# 将得到的关节点信息转换为ndarray\n",
    "def landmarks2vec(pose_landmarks):\n",
    "    vec2d = []\n",
    "    for pose in pose_landmarks:\n",
    "        vec1d = []\n",
    "        pose_landmarks_list = pose.pose_landmarks[0]\n",
    "        for idx in range(len(pose_landmarks_list)):\n",
    "            x = pose_landmarks_list[idx].x\n",
    "            y = pose_landmarks_list[idx].y\n",
    "            z = pose_landmarks_list[idx].z\n",
    "            v = pose_landmarks_list[idx].visibility\n",
    "            p = pose_landmarks_list[idx].presence\n",
    "            vec1d.append([x, y, z, v, p])\n",
    "        vec2d.append(vec1d)\n",
    "    vec3d = np.array(vec2d)\n",
    "    return vec3d"
   ]
  },
  {
   "cell_type": "code",
   "execution_count": 45,
   "id": "d2164bd2",
   "metadata": {
    "scrolled": true
   },
   "outputs": [
    {
     "data": {
      "text/plain": [
       "(195, 33, 5)"
      ]
     },
     "execution_count": 45,
     "metadata": {},
     "output_type": "execute_result"
    }
   ],
   "source": [
    "vec = landmarks2vec(pose_landmarker_results_test)   # 转换为特征向量\n",
    "vec.shape  # 结果分别对应：(视频的帧数, 关节点的个数, 每个关节点的相关信息的个数)"
   ]
  },
  {
   "cell_type": "code",
   "execution_count": 53,
   "id": "186feeed",
   "metadata": {},
   "outputs": [],
   "source": [
    "# 加载json\n",
    "def load_json(path):\n",
    "    with open(path) as f:\n",
    "        data = f.load(path).data\n",
    "    print(data)"
   ]
  },
  {
   "cell_type": "code",
   "execution_count": null,
   "id": "5a0d4187",
   "metadata": {},
   "outputs": [],
   "source": [
    "load_json('')"
   ]
  },
  {
   "cell_type": "code",
   "execution_count": null,
   "id": "316c2375",
   "metadata": {},
   "outputs": [],
   "source": [
    "# 特征工程\n",
    "# 1. 将骨架平移到一起，以引体向上为例，由于运动过程中人的手位置几乎固定不变，所以选择左手手肘(15号点)作为参考点，优先对齐左手手肘\n",
    "def align_skeleton(landmark_vec, pos):\n",
    "    for frame_vec in range(landmark_vec.shape[0]):\n",
    "        "
   ]
  },
  {
   "cell_type": "code",
   "execution_count": null,
   "id": "a9b37000",
   "metadata": {},
   "outputs": [],
   "source": []
  }
 ],
 "metadata": {
  "kernelspec": {
   "display_name": "Python 3 (ipykernel)",
   "language": "python",
   "name": "python3"
  },
  "language_info": {
   "codemirror_mode": {
    "name": "ipython",
    "version": 3
   },
   "file_extension": ".py",
   "mimetype": "text/x-python",
   "name": "python",
   "nbconvert_exporter": "python",
   "pygments_lexer": "ipython3",
   "version": "3.11.4"
  }
 },
 "nbformat": 4,
 "nbformat_minor": 5
}
